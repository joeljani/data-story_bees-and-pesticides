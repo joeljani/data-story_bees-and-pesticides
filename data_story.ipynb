{
 "cells": [
  {
   "cell_type": "markdown",
   "metadata": {
    "slideshow": {
     "slide_type": "slide"
    }
   },
   "source": [
    "# Dying of the bees\n",
    "## Correlation between the use of selected pesticides and the bee colony loss rate for each U.S. state"
   ]
  },
  {
   "cell_type": "markdown",
   "metadata": {
    "slideshow": {
     "slide_type": "slide"
    }
   },
   "source": [
    "# Content\n",
    "1. Data Collection\n",
    "        1.1 Pesticide use dataset\n",
    "        1.2 Bees dataset\n",
    "2. Prepare the datasets\n",
    "        2.1 Prepare Pesticide-Use dataset\n",
    "        2.2 Prepare Bee-Colony-Loss dataset\n",
    "3. Analyze for correlation\n",
    "5. Conclusion"
   ]
  },
  {
   "cell_type": "markdown",
   "metadata": {
    "slideshow": {
     "slide_type": "slide"
    }
   },
   "source": [
    "# 1. Data Collection"
   ]
  },
  {
   "cell_type": "markdown",
   "metadata": {
    "slideshow": {
     "slide_type": "skip"
    }
   },
   "source": [
    "To the fetch the data simply run following command: \"python3 read_data.py\"  "
   ]
  },
  {
   "cell_type": "code",
   "execution_count": null,
   "metadata": {
    "slideshow": {
     "slide_type": "skip"
    }
   },
   "outputs": [
    {
     "name": "stdout",
     "output_type": "stream",
     "text": [
      "Directory  data  already exists\n"
     ]
    }
   ],
   "source": [
    "%run read_data.py"
   ]
  },
  {
   "cell_type": "markdown",
   "metadata": {
    "slideshow": {
     "slide_type": "skip"
    }
   },
   "source": [
    "To find a correlation between the use of selected pesticides and the annual bee colony loss, I used two different sources for the datasets, which will be explained later in detail. "
   ]
  },
  {
   "cell_type": "markdown",
   "metadata": {
    "slideshow": {
     "slide_type": "slide"
    }
   },
   "source": [
    "### 1.1 Pesticide dataset"
   ]
  },
  {
   "cell_type": "markdown",
   "metadata": {
    "slideshow": {
     "slide_type": "skip"
    }
   },
   "source": [
    "The first dataset - use of pesticdes - is derived from following source: https://water.usgs.gov/nawqa/pnsp/usage/maps/\n",
    "The NAWQA Pesticide National Synthesis Project, which began in 1992, is a national-scale assessment of the occurrence and behavior of pesticides in streams and ground water of the United States and the potential for pesticides to adversely affect drinking-water supplies or aquatic ecosystems."
   ]
  },
  {
   "cell_type": "markdown",
   "metadata": {
    "slideshow": {
     "slide_type": "skip"
    }
   },
   "source": [
    "For all States except California, proprietary farm survey pesticide-use data are aggregated and reported at the multi-county *Crop Reporting District (CRD)* level. \n",
    "The USGS (U.S. Geological Survey) has estimated how various pesticides are used in agriculture in the different US states through those CRD's."
   ]
  },
  {
   "cell_type": "markdown",
   "metadata": {
    "slideshow": {
     "slide_type": "skip"
    }
   },
   "source": [
    "The USGS (U.S. Geological Survey) started collecting data from year 1992.\n",
    "For this examination the years from 2013 until 2016 are going to be used."
   ]
  },
  {
   "cell_type": "code",
   "execution_count": null,
   "metadata": {
    "slideshow": {
     "slide_type": "skip"
    }
   },
   "outputs": [],
   "source": [
    "import pandas as pd\n",
    "import seaborn as sns"
   ]
  },
  {
   "cell_type": "code",
   "execution_count": null,
   "metadata": {
    "slideshow": {
     "slide_type": "skip"
    }
   },
   "outputs": [],
   "source": [
    "df_pesticide_use_2013 = pd.read_csv('data/pesticide_use_2013_dataset.txt', index_col=2, delimiter=\"\\t\",)\n",
    "df_pesticide_use_2014 = pd.read_csv('data/pesticide_use_2014_dataset.txt', index_col=2, delimiter=\"\\t\")\n",
    "df_pesticide_use_2015 = pd.read_csv('data/2015PreliminaryEstimates/EPest.county.estimates.2015.txt', index_col=2, delimiter=\"\\t\")\n",
    "df_pesticide_use_2016 = pd.read_csv('data/2106PreliminaryEstimates/EPest.county.estimates.2016.txt', index_col=2, delimiter=\"\\t\")"
   ]
  },
  {
   "cell_type": "code",
   "execution_count": null,
   "metadata": {
    "slideshow": {
     "slide_type": "skip"
    }
   },
   "outputs": [],
   "source": [
    "#df_pesticide_use_2013 = df_pesticide_use_2013.reset_index()\n",
    "#df_pesticide_use_2013 = df_pesticide_use_2013.groupby(['STATE_FIPS_CODE']).agg({'EPEST_HIGH_KG': np.sum, 'YEAR': 'first'})"
   ]
  },
  {
   "cell_type": "code",
   "execution_count": null,
   "metadata": {
    "slideshow": {
     "slide_type": "skip"
    }
   },
   "outputs": [],
   "source": [
    "number_of_datapoints_pesticides = df_pesticide_use_2013.size + df_pesticide_use_2014.size + df_pesticide_use_2015.size + df_pesticide_use_2016.size\n",
    "print(\"number of datapoints: \",  number_of_datapoints_pesticides)"
   ]
  },
  {
   "cell_type": "code",
   "execution_count": null,
   "metadata": {
    "slideshow": {
     "slide_type": "fragment"
    }
   },
   "outputs": [],
   "source": [
    "df_pesticide_use_2013.head()"
   ]
  },
  {
   "cell_type": "markdown",
   "metadata": {
    "slideshow": {
     "slide_type": "slide"
    }
   },
   "source": [
    "### 1.2 Bees dataset"
   ]
  },
  {
   "cell_type": "markdown",
   "metadata": {
    "slideshow": {
     "slide_type": "skip"
    }
   },
   "source": [
    "The second dataset - bee colony loss - is derived from following source: https://data.world/makeovermonday/2018w18-bee-colony-loss \n",
    "The dataset is originally from https://beeinformed.org/, which is in an organisation who gathers and analyzes data about bees."
   ]
  },
  {
   "cell_type": "markdown",
   "metadata": {
    "slideshow": {
     "slide_type": "skip"
    }
   },
   "source": [
    "Beeinformed started collecting data from year 2013.\n",
    "For this examination the years from 2013 until 2016 are going to be used."
   ]
  },
  {
   "cell_type": "code",
   "execution_count": null,
   "metadata": {
    "slideshow": {
     "slide_type": "skip"
    }
   },
   "outputs": [],
   "source": [
    "df_bee_colony_loss = pd.read_excel('data/bee_colony_loss.xlsx', index_col=2)\n",
    "df_bee_colony_loss = df_bee_colony_loss.sort_values('Year')"
   ]
  },
  {
   "cell_type": "code",
   "execution_count": null,
   "metadata": {
    "slideshow": {
     "slide_type": "skip"
    }
   },
   "outputs": [],
   "source": [
    "number_of_datapoints_bee_colony_loss = df_bee_colony_loss.size\n",
    "print(\"number of datapoints: \",  number_of_datapoints_bee_colony_loss)"
   ]
  },
  {
   "cell_type": "markdown",
   "metadata": {
    "slideshow": {
     "slide_type": "notes"
    }
   },
   "source": [
    "The organisation Beeinformed gathers information submitted by the beekeepers. The main goals of this information is to find out, \n",
    "1. how many hives were lost and\n",
    "2. how healthy the bees are"
   ]
  },
  {
   "cell_type": "code",
   "execution_count": null,
   "metadata": {
    "slideshow": {
     "slide_type": "fragment"
    }
   },
   "outputs": [],
   "source": [
    "df_bee_colony_loss.head()"
   ]
  },
  {
   "cell_type": "markdown",
   "metadata": {
    "slideshow": {
     "slide_type": "slide"
    }
   },
   "source": [
    "# 2. Prepare datasets"
   ]
  },
  {
   "cell_type": "markdown",
   "metadata": {
    "slideshow": {
     "slide_type": "fragment"
    }
   },
   "source": [
    "### 2.1 Pesticide datasets"
   ]
  },
  {
   "cell_type": "markdown",
   "metadata": {
    "slideshow": {
     "slide_type": "skip"
    }
   },
   "source": [
    "The attribute to examine is the pesticide use. Herefor the USGS used two different methods, *EPest-low* and *EPest- high*(Estimation-Pesticide low and high), to estimate a range of pesticide by crop use. \n",
    "If there already exists CRD's including pesticide use by crop, then the USGS applied these survyed rate.\n",
    "If use of a pesticide on a crop was not reported in a surveyed CRD, EPest-low reports zero use in the CRD for that pesticide-by-crop combination. EPest-high, however, treats the unreported use for that pesticide-by-crop combination in the CRD as unsurveyed, and pesticide-by-crop use rates from neighboring CRDs and, in some cases, CRDs within the same USDA Farm Resource Region are used to calculate the pesticide-by-crop EPest-high rate for the CRD."
   ]
  },
  {
   "cell_type": "markdown",
   "metadata": {
    "slideshow": {
     "slide_type": "skip"
    }
   },
   "source": [
    "The dataset contains following attributes:\n",
    "- COMPOUND: The kind of pesticide \n",
    "- YEAR: Year of the CRD\n",
    "- STATE_FIPS_CODE: code which uniquely identified states\n",
    "- COUNTY_FIPS_CODE: code which uniquely identified counties\n",
    "- EPEST_LOW_KG: low estimation of pesticide use\n",
    "- EPEST_HIGH_KG: high estimation of pesticide use"
   ]
  },
  {
   "cell_type": "markdown",
   "metadata": {
    "slideshow": {
     "slide_type": "skip"
    }
   },
   "source": [
    "For this examination we only compare the values of seven selected Neonicotinoids, as studies have shown that Neonicotinoids are the most harmful pesticides for bees (https://www.compoundchem.com/2015/04/14/neonicotinoids/, \n",
    "https://www.hsph.harvard.edu/news/press-releases/study-strengthens-link-between-neonicotinoids-and-collapse-of-honey-bee-colonies/)"
   ]
  },
  {
   "cell_type": "markdown",
   "metadata": {
    "slideshow": {
     "slide_type": "slide"
    }
   },
   "source": [
    "Following Neonicotinoids are going to be used for the examination:\n",
    "- Acetamiprid\n",
    "- Clothianidin\n",
    "- Dinotefuran\n",
    "- Imidacloprid\n",
    "- Thiacloprid\n",
    "- Thiamethoxam"
   ]
  },
  {
   "cell_type": "code",
   "execution_count": null,
   "metadata": {
    "slideshow": {
     "slide_type": "skip"
    }
   },
   "outputs": [],
   "source": [
    "#imports and styling\n",
    "import numpy as np\n",
    "import matplotlib.pyplot as plt\n",
    "%matplotlib inline\n",
    "plt.style.use('seaborn-muted')"
   ]
  },
  {
   "cell_type": "code",
   "execution_count": null,
   "metadata": {
    "slideshow": {
     "slide_type": "skip"
    }
   },
   "outputs": [],
   "source": [
    "# year and county code is not needed\n",
    "df_pesticide_use_2013 = df_pesticide_use_2013.drop(columns=['YEAR','COUNTY_FIPS_CODE'])\n",
    "df_pesticide_use_2014 = df_pesticide_use_2014.drop(columns=['YEAR','COUNTY_FIPS_CODE'])\n",
    "df_pesticide_use_2015 = df_pesticide_use_2015.drop(columns=['YEAR','COUNTY_FIPS_CODE'])\n",
    "df_pesticide_use_2016 = df_pesticide_use_2016.drop(columns=['YEAR','COUNTY_FIPS_CODE'])"
   ]
  },
  {
   "cell_type": "code",
   "execution_count": null,
   "metadata": {
    "slideshow": {
     "slide_type": "skip"
    }
   },
   "outputs": [],
   "source": [
    "# sort by states\n",
    "df_pesticide_use_2013 = df_pesticide_use_2013.sort_index()\n",
    "df_pesticide_use_2014 = df_pesticide_use_2014.sort_index()\n",
    "df_pesticide_use_2015 = df_pesticide_use_2015.sort_index()\n",
    "df_pesticide_use_2016 = df_pesticide_use_2016.sort_index()"
   ]
  },
  {
   "cell_type": "markdown",
   "metadata": {
    "slideshow": {
     "slide_type": "skip"
    }
   },
   "source": [
    "EPEST_LOW_KG and EPEST_HIGH_KG are estimations in Kilos on the amount of pesticides used for each county:"
   ]
  },
  {
   "cell_type": "code",
   "execution_count": null,
   "metadata": {
    "slideshow": {
     "slide_type": "skip"
    }
   },
   "outputs": [],
   "source": [
    "print(\"Datatypes of Estimations: \", df_pesticide_use_2013.EPEST_LOW_KG.dtype)"
   ]
  },
  {
   "cell_type": "code",
   "execution_count": null,
   "metadata": {
    "slideshow": {
     "slide_type": "skip"
    }
   },
   "outputs": [],
   "source": [
    "# only get the important pesticides\n",
    "important_pesticides = ['CLOTHIANIDIN', 'DINOTEFURAN', 'IMIDACLOPRID', 'THIAMETHOXAM', 'ACETAMIPRID']\n",
    "def important_pesticides_only(pesticide_dataframe):\n",
    "    important_pesticides_dataframes = []\n",
    "    for i in range(0, len(important_pesticides)):\n",
    "        important_pesticides_dataframes.append(pesticide_dataframe[pesticide_dataframe.COMPOUND == important_pesticides[i]])\n",
    "    return important_pesticides_dataframes"
   ]
  },
  {
   "cell_type": "code",
   "execution_count": null,
   "metadata": {
    "slideshow": {
     "slide_type": "skip"
    }
   },
   "outputs": [],
   "source": [
    "# Combine the dataframes with the correct pesticides for each year\n",
    "df_pesticide_use_2013_with_correct_pesticides = pd.concat(important_pesticides_only(df_pesticide_use_2013))\n",
    "df_pesticide_use_2014_with_correct_pesticides = pd.concat(important_pesticides_only(df_pesticide_use_2014))\n",
    "df_pesticide_use_2015_with_correct_pesticides = pd.concat(important_pesticides_only(df_pesticide_use_2015))\n",
    "df_pesticide_use_2016_with_correct_pesticides = pd.concat(important_pesticides_only(df_pesticide_use_2016))"
   ]
  },
  {
   "cell_type": "markdown",
   "metadata": {
    "slideshow": {
     "slide_type": "skip"
    }
   },
   "source": [
    "Now the dataframes contains only the pesticides we're going to need. At the moment, for each state there are multiple entries, due to the different counties. \n",
    "As we just want to compare the different states, we combine all values within a state.\n",
    "To analyze the use of the selected pesticides for each state we get sum of the estimations."
   ]
  },
  {
   "cell_type": "code",
   "execution_count": null,
   "metadata": {
    "slideshow": {
     "slide_type": "skip"
    }
   },
   "outputs": [],
   "source": [
    "list_pesticide_use_2013_to_2016 = [df_pesticide_use_2013_with_correct_pesticides, \n",
    "                                   df_pesticide_use_2014_with_correct_pesticides, \n",
    "                                   df_pesticide_use_2015_with_correct_pesticides, \n",
    "                                   df_pesticide_use_2016_with_correct_pesticides]"
   ]
  },
  {
   "cell_type": "code",
   "execution_count": null,
   "metadata": {
    "slideshow": {
     "slide_type": "skip"
    }
   },
   "outputs": [],
   "source": [
    "df_pesticide_use_2013_to_2016_with_correct_pesticides = pd.concat(list_pesticide_use_2013_to_2016)"
   ]
  },
  {
   "cell_type": "code",
   "execution_count": null,
   "metadata": {
    "slideshow": {
     "slide_type": "skip"
    }
   },
   "outputs": [],
   "source": [
    "# group all state codes and get the sum of EPEST_LOW_KG and EPEST_HIGH_KG for each Pesticide\n",
    "df_pesticide_use_2013_to_2016_with_correct_pesticides_grouped = round(df_pesticide_use_2013_to_2016_with_correct_pesticides.groupby(['STATE_FIPS_CODE']).agg('sum') ,0)"
   ]
  },
  {
   "cell_type": "code",
   "execution_count": null,
   "metadata": {
    "slideshow": {
     "slide_type": "fragment"
    }
   },
   "outputs": [],
   "source": [
    "df_pesticide_use_2013_to_2016_with_correct_pesticides_grouped.head()"
   ]
  },
  {
   "cell_type": "markdown",
   "metadata": {
    "slideshow": {
     "slide_type": "slide"
    }
   },
   "source": [
    "### 2.2 Bee Colony Loss dataset"
   ]
  },
  {
   "cell_type": "markdown",
   "metadata": {
    "slideshow": {
     "slide_type": "skip"
    }
   },
   "source": [
    "Beeinformed gathers information of the beekeepers and compare the amount of colonies to the previous year, so that they can calculate a percentage loss."
   ]
  },
  {
   "cell_type": "markdown",
   "metadata": {
    "slideshow": {
     "slide_type": "skip"
    }
   },
   "source": [
    "- Year: Year of examination\n",
    "- Season: Season of examination\n",
    "- State: All states of the US \n",
    "- Total Annual Loss: Loss of colonies within this year, in percentage\n",
    "- Beekeepers: Amount of beekeepers who has submitted information\n",
    "- Colonies: Amount of colonies"
   ]
  },
  {
   "cell_type": "code",
   "execution_count": null,
   "metadata": {
    "slideshow": {
     "slide_type": "skip"
    }
   },
   "outputs": [],
   "source": [
    "# remove white space in columns\n",
    "df_bee_colony_loss.columns = df_bee_colony_loss.columns.str.replace(' ', '')\n",
    "df_bee_colony_loss.columns = df_bee_colony_loss.columns.str.lstrip()"
   ]
  },
  {
   "cell_type": "markdown",
   "metadata": {
    "slideshow": {
     "slide_type": "skip"
    }
   },
   "source": [
    "As we just need the annual loss of the colonies, we drop every other column except the year"
   ]
  },
  {
   "cell_type": "code",
   "execution_count": null,
   "metadata": {
    "slideshow": {
     "slide_type": "skip"
    }
   },
   "outputs": [],
   "source": [
    "# remove not needed columns\n",
    "df_bee_colony_loss = df_bee_colony_loss.drop(columns=['Season', 'BeekeepersExclusivetoState', 'Beekeepers', 'Colonies', 'ColoniesExclusivetoState'])"
   ]
  },
  {
   "cell_type": "code",
   "execution_count": null,
   "metadata": {
    "slideshow": {
     "slide_type": "skip"
    }
   },
   "outputs": [],
   "source": [
    "# sort by states\n",
    "df_bee_colony_loss_sorted = df_bee_colony_loss.sort_index()"
   ]
  },
  {
   "cell_type": "code",
   "execution_count": null,
   "metadata": {
    "slideshow": {
     "slide_type": "skip"
    }
   },
   "outputs": [],
   "source": [
    "# only get the years 2013-2016\n",
    "df_bee_colony_loss_sorted_2013_to_2016_ = df_bee_colony_loss_sorted[df_bee_colony_loss_sorted.Year != '2010/11']\n",
    "df_bee_colony_loss_sorted_2013_to_2016_ = df_bee_colony_loss_sorted[df_bee_colony_loss_sorted.Year != '2011/12']"
   ]
  },
  {
   "cell_type": "code",
   "execution_count": null,
   "metadata": {
    "slideshow": {
     "slide_type": "skip"
    }
   },
   "outputs": [],
   "source": [
    "df_bee_colony_loss_sorted_2013_to_2016_.head()"
   ]
  },
  {
   "cell_type": "markdown",
   "metadata": {
    "slideshow": {
     "slide_type": "skip"
    }
   },
   "source": [
    "Now I have the dataframe with the annual loss of the bee colonies for the years of 2013-2016.\n",
    "To compare the data with the use of pesticides we need to group them in the different years."
   ]
  },
  {
   "cell_type": "code",
   "execution_count": null,
   "metadata": {
    "slideshow": {
     "slide_type": "skip"
    }
   },
   "outputs": [],
   "source": [
    "# create new dataframes for each year\n",
    "df_bee_colony_loss_sorted_2013 = df_bee_colony_loss_sorted[df_bee_colony_loss_sorted.Year == '2013/14']\n",
    "df_bee_colony_loss_sorted_2014 = df_bee_colony_loss_sorted[df_bee_colony_loss_sorted.Year == '2014/15']\n",
    "df_bee_colony_loss_sorted_2015 = df_bee_colony_loss_sorted[df_bee_colony_loss_sorted.Year == '2015/16']\n",
    "df_bee_colony_loss_sorted_2016 = df_bee_colony_loss_sorted[df_bee_colony_loss_sorted.Year == '2016/17']"
   ]
  },
  {
   "cell_type": "markdown",
   "metadata": {
    "slideshow": {
     "slide_type": "skip"
    }
   },
   "source": [
    "Some states, e.g Alaska, dont't have information about their bee colony loss.\n",
    "Also, the annual loss is of datatype float and is presented as a percentage. For a more understandable visualization, we round the percentage value to zero decimalpoints."
   ]
  },
  {
   "cell_type": "code",
   "execution_count": null,
   "metadata": {
    "slideshow": {
     "slide_type": "skip"
    }
   },
   "outputs": [],
   "source": [
    "df_bee_colony_loss_sorted_2013_to_2016 = df_bee_colony_loss_sorted_2013_to_2016_.dropna()"
   ]
  },
  {
   "cell_type": "code",
   "execution_count": null,
   "metadata": {
    "slideshow": {
     "slide_type": "skip"
    }
   },
   "outputs": [],
   "source": [
    "#df_bee_colony_loss_sorted_2013_to_2016 = df_bee_colony_loss_sorted_2013_to_2016[df_bee_colony_loss_sorted_2013_to_2016.select_dtypes(include=['number']).columns]\n",
    "state_count = df_bee_colony_loss_sorted_2013_to_2016.loc[df_bee_colony_loss_sorted_2013_to_2016.index == 'Arkansas'].index.value_counts()\n",
    "print(state_count)"
   ]
  },
  {
   "cell_type": "code",
   "execution_count": null,
   "metadata": {
    "slideshow": {
     "slide_type": "slide"
    }
   },
   "outputs": [],
   "source": [
    "#each state appears 6 times\n",
    "df_bee_colony_loss_sorted_2013_to_2016 = round((df_bee_colony_loss_sorted_2013_to_2016.groupby(df_bee_colony_loss_sorted_2013_to_2016.index).agg('sum') / 6) * 100,0)\n",
    "df_bee_colony_loss_sorted_2013_to_2016.head()"
   ]
  },
  {
   "cell_type": "markdown",
   "metadata": {
    "slideshow": {
     "slide_type": "slide"
    }
   },
   "source": [
    "# 3. Analyze correlation"
   ]
  },
  {
   "cell_type": "markdown",
   "metadata": {
    "slideshow": {
     "slide_type": "skip"
    }
   },
   "source": [
    "Comparison between two dataframes for the years 2013-2016 with following variables:\n",
    "- Categorial Variables: States and State_FIPS_Code\n",
    "- Discrete Variables: Pesticide-use Estimation and Total Annual Loss"
   ]
  },
  {
   "cell_type": "code",
   "execution_count": null,
   "metadata": {
    "slideshow": {
     "slide_type": "skip"
    }
   },
   "outputs": [],
   "source": [
    "df_pesticide_use_2013_to_2016_with_correct_pesticides_grouped.head()"
   ]
  },
  {
   "cell_type": "code",
   "execution_count": null,
   "metadata": {
    "slideshow": {
     "slide_type": "skip"
    }
   },
   "outputs": [],
   "source": [
    "df_pesticide_use_2013_to_2016_with_correct_pesticides_grouped.count()"
   ]
  },
  {
   "cell_type": "code",
   "execution_count": null,
   "metadata": {
    "slideshow": {
     "slide_type": "skip"
    }
   },
   "outputs": [],
   "source": [
    "df_bee_colony_loss_sorted_2013_to_2016.head()"
   ]
  },
  {
   "cell_type": "code",
   "execution_count": null,
   "metadata": {
    "slideshow": {
     "slide_type": "skip"
    }
   },
   "outputs": [],
   "source": [
    "df_bee_colony_loss_sorted_2013_to_2016.count()"
   ]
  },
  {
   "cell_type": "markdown",
   "metadata": {
    "slideshow": {
     "slide_type": "skip"
    }
   },
   "source": [
    "Hereby i found out that the amount of rows differ by 3. To analyze which states are missing i put both dataframes side by side and compared them by FIPS-Code from: https://en.wikipedia.org/wiki/Federal_Information_Processing_Standard_state_code"
   ]
  },
  {
   "cell_type": "code",
   "execution_count": null,
   "metadata": {
    "scrolled": false,
    "slideshow": {
     "slide_type": "skip"
    }
   },
   "outputs": [],
   "source": [
    "def dataframes_comparisor(): \n",
    "    df1_styler = df_pesticide_use_2013_to_2016_with_correct_pesticides_grouped.style.set_table_attributes(\"style='display:inline'\").set_caption('pesticides')\n",
    "    df2_styler = df_bee_colony_loss_sorted_2013_to_2016.style.set_table_attributes(\"style='display:inline'\").set_caption('colony loss')\n",
    "    from IPython.display import display_html\n",
    "    display_html(df1_styler._repr_html_()+df2_styler._repr_html_(), raw=True)"
   ]
  },
  {
   "cell_type": "code",
   "execution_count": null,
   "metadata": {
    "slideshow": {
     "slide_type": "skip"
    }
   },
   "outputs": [],
   "source": [
    "dataframes_comparisor()"
   ]
  },
  {
   "cell_type": "markdown",
   "metadata": {
    "slideshow": {
     "slide_type": "skip"
    }
   },
   "source": [
    "Following states are missing within the pesticide dataset: \n",
    "- District of Columbia\n",
    "- Hawaii\n",
    "- MultiStateOperation\n",
    "\n",
    "These states will be removed within the bee dataset"
   ]
  },
  {
   "cell_type": "code",
   "execution_count": null,
   "metadata": {
    "slideshow": {
     "slide_type": "skip"
    }
   },
   "outputs": [],
   "source": [
    "df_bee_colony_loss_sorted_2013_to_2016 = df_bee_colony_loss_sorted_2013_to_2016.drop(index=['District of Columbia', 'Hawaii', 'MultiStateOperation'])\n",
    "df_bee_colony_loss_sorted_2013_to_2016.count()"
   ]
  },
  {
   "cell_type": "markdown",
   "metadata": {
    "slideshow": {
     "slide_type": "skip"
    }
   },
   "source": [
    "Now i can merge the two datasets, as they have the same states for each row."
   ]
  },
  {
   "cell_type": "code",
   "execution_count": null,
   "metadata": {
    "slideshow": {
     "slide_type": "skip"
    }
   },
   "outputs": [],
   "source": [
    "df_bee_colony_loss_sorted_2013_to_2016 = df_bee_colony_loss_sorted_2013_to_2016.reset_index(drop=True)\n",
    "df_pesticide_use_2013_to_2016_with_correct_pesticides_grouped = df_pesticide_use_2013_to_2016_with_correct_pesticides_grouped.reset_index(drop=True)\n",
    "df_bees_and_pesticides_2013_to_2016 = df_bee_colony_loss_sorted_2013_to_2016.join(df_pesticide_use_2013_to_2016_with_correct_pesticides_grouped)"
   ]
  },
  {
   "cell_type": "code",
   "execution_count": null,
   "metadata": {
    "slideshow": {
     "slide_type": "skip"
    }
   },
   "outputs": [],
   "source": [
    "def jointplot_selected_pesticides():\n",
    "        ax = sns.jointplot(\"TotalAnnualLoss\", \"EPEST_HIGH_KG\", data=df_bees_and_pesticides_2013_to_2016, kind=\"reg\", height=7)\n",
    "        plt.title('Correlation between colony annual loss and the amount of selected pesticide use estimation from 2013 to 2016', y=1.25)"
   ]
  },
  {
   "cell_type": "code",
   "execution_count": null,
   "metadata": {
    "slideshow": {
     "slide_type": "slide"
    }
   },
   "outputs": [],
   "source": [
    "jointplot_selected_pesticides()"
   ]
  },
  {
   "cell_type": "markdown",
   "metadata": {
    "slideshow": {
     "slide_type": "skip"
    }
   },
   "source": [
    "We can't see any clear correlation between the amount of pesticide use and the annual loss.\n",
    "Maybe the selected pesticides aren't that influential. Lets check if there is a correlation when all pesticides are involved. "
   ]
  },
  {
   "cell_type": "code",
   "execution_count": null,
   "metadata": {
    "slideshow": {
     "slide_type": "skip"
    }
   },
   "outputs": [],
   "source": [
    "list_pesticide_use_2013_to_2016_all_pesticides = [df_pesticide_use_2013, df_pesticide_use_2014, df_pesticide_use_2015,\n",
    "                                         df_pesticide_use_2016]\n",
    "df_pesticide_use_2013_to_2016_all_pesticides = pd.concat(list_pesticide_use_2013_to_2016_all_pesticides)\n",
    "df_pesticide_use_2013_to_2016_all_pesticides_grouped = df_pesticide_use_2013_to_2016_all_pesticides.groupby(['STATE_FIPS_CODE']).agg('sum')"
   ]
  },
  {
   "cell_type": "code",
   "execution_count": null,
   "metadata": {
    "slideshow": {
     "slide_type": "skip"
    }
   },
   "outputs": [],
   "source": [
    "df_bees_and_pesticides_2013_to_2016_all_pesticides = df_bee_colony_loss_sorted_2013_to_2016.join(df_pesticide_use_2013_to_2016_all_pesticides_grouped)\n",
    "df_bees_and_pesticides_2013_to_2016_all_pesticides = df_bees_and_pesticides_2013_to_2016_all_pesticides.dropna()"
   ]
  },
  {
   "cell_type": "code",
   "execution_count": null,
   "metadata": {
    "scrolled": false,
    "slideshow": {
     "slide_type": "skip"
    }
   },
   "outputs": [],
   "source": [
    "def jointplot_all_pesticides():\n",
    "        ax = sns.jointplot(\"TotalAnnualLoss\", \"EPEST_HIGH_KG\", \n",
    "                           data=df_bees_and_pesticides_2013_to_2016_all_pesticides, \n",
    "                           kind=\"reg\", height=7)\n",
    "        plt.title('Correlation between colony annual loss and the amount of all pesticide use estimation from 2013 to 2016', y=1.25)"
   ]
  },
  {
   "cell_type": "code",
   "execution_count": null,
   "metadata": {
    "slideshow": {
     "slide_type": "slide"
    }
   },
   "outputs": [],
   "source": [
    "jointplot_all_pesticides()"
   ]
  },
  {
   "cell_type": "markdown",
   "metadata": {
    "slideshow": {
     "slide_type": "skip"
    }
   },
   "source": [
    "The regression line tends to be steeper than the regression line of the selected pesticides. However it still doesn't show that the pesticides have a big impact on the annual loss."
   ]
  },
  {
   "cell_type": "code",
   "execution_count": null,
   "metadata": {
    "scrolled": false,
    "slideshow": {
     "slide_type": "skip"
    }
   },
   "outputs": [],
   "source": [
    "def pesticide_kernel_density_estimation(): \n",
    "        f, ax = plt.subplots(figsize=(8, 8))\n",
    "        ax.set_aspect(\"equal\")\n",
    "        # Draw the two density plots\n",
    "        ax = sns.kdeplot(df_bees_and_pesticides_2013_to_2016_all_pesticides.TotalAnnualLoss, \n",
    "                         df_bees_and_pesticides_2013_to_2016_all_pesticides.EPEST_HIGH_KG/10000000,\n",
    "                         cmap=\"Reds\", shade=False, shade_lowest=True)\n",
    "        ax = sns.kdeplot(df_bees_and_pesticides_2013_to_2016.TotalAnnualLoss, \n",
    "                         df_bees_and_pesticides_2013_to_2016.EPEST_HIGH_KG/100000,\n",
    "                         cmap=\"Blues\", shade=False, shade_lowest=True)\n",
    "        red = sns.color_palette(\"Reds\", 8)[-1]\n",
    "        blue = sns.color_palette(\"Blues\", 8)[-1]\n",
    "        ax.text(15, 20, \"All pesticides\", size=16, color=blue)\n",
    "        ax.text(15, 18, \"Selected pesticides\", size=16, color=red)\n",
    "        ax.set_title('Difference between selected- and all pesticide in relation to the annual loss')"
   ]
  },
  {
   "cell_type": "code",
   "execution_count": null,
   "metadata": {
    "slideshow": {
     "slide_type": "slide"
    }
   },
   "outputs": [],
   "source": [
    "pesticide_kernel_density_estimation()"
   ]
  },
  {
   "cell_type": "markdown",
   "metadata": {
    "slideshow": {
     "slide_type": "skip"
    }
   },
   "source": [
    "The difference in the distribution between all pesticides and the selected pesticides is similar. "
   ]
  },
  {
   "cell_type": "code",
   "execution_count": null,
   "metadata": {
    "slideshow": {
     "slide_type": "skip"
    }
   },
   "outputs": [],
   "source": [
    "df_bees_and_pesticides_2013_to_2016_all_pesticides = df_bees_and_pesticides_2013_to_2016_all_pesticides.reset_index()\n",
    "df_bees_and_pesticides_2013_to_2016_all_pesticides = df_bees_and_pesticides_2013_to_2016_all_pesticides.drop(df_bees_and_pesticides_2013_to_2016_all_pesticides.columns[2], axis=1)\n",
    "df_bees_and_pesticides_2013_to_2016_all_pesticides = df_bees_and_pesticides_2013_to_2016_all_pesticides.sort_values('TotalAnnualLoss')"
   ]
  },
  {
   "cell_type": "code",
   "execution_count": null,
   "metadata": {
    "slideshow": {
     "slide_type": "skip"
    }
   },
   "outputs": [],
   "source": [
    "def states_pairgrid():\n",
    "        sns.set(style=\"whitegrid\")\n",
    "\n",
    "        g = sns.PairGrid(df_bees_and_pesticides_2013_to_2016_all_pesticides,\n",
    "                         x_vars=df_bees_and_pesticides_2013_to_2016_all_pesticides.columns[1:], y_vars=[\"index\"],\n",
    "                         height=8, aspect=.4)\n",
    "\n",
    "        g.map(sns.stripplot, size=10, orient=\"h\",\n",
    "              palette=\"ch:s=1,r=-.1,h=1_r\", linewidth=1, edgecolor=\"w\")\n",
    "\n",
    "        plt.subplots_adjust(top=0.9)\n",
    "        g.fig.suptitle('Correlation between the annual loss and the pesticide use estimation for each state')\n",
    "\n",
    "        titles = ['Annual Loss', 'Pesticide Use Estimation']\n",
    "\n",
    "        for ax, title in zip(g.axes.flat, titles):\n",
    "\n",
    "            # Set a different title for each axes\n",
    "            ax.set(title=title)\n",
    "\n",
    "            # Make the grid horizontal instead of vertical\n",
    "            ax.xaxis.grid(False)\n",
    "            ax.yaxis.grid(True)\n",
    "\n",
    "        sns.despine(left=True, bottom=True)"
   ]
  },
  {
   "cell_type": "code",
   "execution_count": null,
   "metadata": {
    "slideshow": {
     "slide_type": "slide"
    }
   },
   "outputs": [],
   "source": [
    "states_pairgrid()"
   ]
  },
  {
   "cell_type": "markdown",
   "metadata": {
    "slideshow": {
     "slide_type": "skip"
    }
   },
   "source": [
    "As seen for each line (state), there is no correlation between the amount of pesticide use and the annual loss. \n",
    "It would have been expected that the dots move equally along the line."
   ]
  },
  {
   "cell_type": "markdown",
   "metadata": {
    "slideshow": {
     "slide_type": "skip"
    }
   },
   "source": [
    "Let's see how the total amount of pesticide use affected the different years in comparison to the annual loss"
   ]
  },
  {
   "cell_type": "code",
   "execution_count": null,
   "metadata": {
    "slideshow": {
     "slide_type": "skip"
    }
   },
   "outputs": [],
   "source": [
    "df_bee_colony_loss_sorted_2013_to_2016_ = df_bee_colony_loss_sorted_2013_to_2016_.drop(index=['District of Columbia', 'Hawaii', 'MultiStateOperation'])"
   ]
  },
  {
   "cell_type": "code",
   "execution_count": null,
   "metadata": {
    "slideshow": {
     "slide_type": "skip"
    }
   },
   "outputs": [],
   "source": [
    "df_bee_colony_loss_over_years = df_bee_colony_loss_sorted_2013_to_2016_.dropna()"
   ]
  },
  {
   "cell_type": "code",
   "execution_count": null,
   "metadata": {
    "slideshow": {
     "slide_type": "skip"
    }
   },
   "outputs": [],
   "source": [
    "df_bee_colony_loss_over_years.columns = df_bee_colony_loss_over_years.columns.str.lstrip()"
   ]
  },
  {
   "cell_type": "code",
   "execution_count": null,
   "metadata": {
    "slideshow": {
     "slide_type": "skip"
    }
   },
   "outputs": [],
   "source": [
    "#sum divided by 48 states\n",
    "df_bee_colony_loss_over_years = round((df_bee_colony_loss_over_years.groupby(df_bee_colony_loss_over_years.Year).agg('sum') / 48) * 100,0)\n",
    "df_bee_colony_loss_over_years = df_bee_colony_loss_over_years.drop(df_bee_colony_loss_over_years.index[[0,3]])"
   ]
  },
  {
   "cell_type": "code",
   "execution_count": null,
   "metadata": {
    "slideshow": {
     "slide_type": "skip"
    }
   },
   "outputs": [],
   "source": [
    "df_bee_colony_loss_over_years['EPEST_HIGH_KG'] = [round(df_pesticide_use_2013.EPEST_HIGH_KG.mean()), round(df_pesticide_use_2014.EPEST_HIGH_KG.mean()),\n",
    "                          round(df_pesticide_use_2015.EPEST_HIGH_KG.mean()), round(df_pesticide_use_2016.EPEST_HIGH_KG.mean())]"
   ]
  },
  {
   "cell_type": "code",
   "execution_count": null,
   "metadata": {
    "scrolled": false,
    "slideshow": {
     "slide_type": "skip"
    }
   },
   "outputs": [],
   "source": [
    "def boxplot_yearly_annualloss():\n",
    "        fig, ax = plt.subplots(figsize=(10, 6))\n",
    "        _ = ax.set_title('Yearly Annual Loss in relation to pesticide use')\n",
    "        sns.barplot(x='EPEST_HIGH_KG', y='TotalAnnualLoss', data=df_bee_colony_loss_over_years)\n",
    "        _ = plt.xlabel('Average pesticide estimation per year')"
   ]
  },
  {
   "cell_type": "code",
   "execution_count": null,
   "metadata": {
    "slideshow": {
     "slide_type": "slide"
    }
   },
   "outputs": [],
   "source": [
    "boxplot_yearly_annualloss()"
   ]
  },
  {
   "cell_type": "markdown",
   "metadata": {
    "slideshow": {
     "slide_type": "skip"
    }
   },
   "source": [
    "Expected would be that the last column (the year 2016) has the highest annual loss, because of the highest pesticide use estimation. This is not the case. Also the other year doesn't show a correlation."
   ]
  },
  {
   "cell_type": "markdown",
   "metadata": {
    "slideshow": {
     "slide_type": "slide"
    }
   },
   "source": [
    "# 4. Conclusion"
   ]
  },
  {
   "cell_type": "markdown",
   "metadata": {
    "slideshow": {
     "slide_type": "skip"
    }
   },
   "source": [
    "The neonicotinoids are not as influential as first thought. However, all pesticides together also don't seem to have a big impact on the annual bee colony loss as well. Many factors such as pathogens, parasites, weather conditions, habitat loss, poor nutrition, and agriculture and apiary practice impact the health of bee colonies today. It would take a lot of data and time to consider every factor and to gain insight on which is the most harmful one. "
   ]
  }
 ],
 "metadata": {
  "celltoolbar": "Slideshow",
  "kernelspec": {
   "display_name": "Python 3",
   "language": "python",
   "name": "python3"
  },
  "language_info": {
   "codemirror_mode": {
    "name": "ipython",
    "version": 3
   },
   "file_extension": ".py",
   "mimetype": "text/x-python",
   "name": "python",
   "nbconvert_exporter": "python",
   "pygments_lexer": "ipython3",
   "version": "3.7.4"
  }
 },
 "nbformat": 4,
 "nbformat_minor": 2
}
